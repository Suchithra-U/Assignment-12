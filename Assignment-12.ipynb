{
 "cells": [
  {
   "cell_type": "code",
   "execution_count": 3,
   "metadata": {},
   "outputs": [
    {
     "name": "stdout",
     "output_type": "stream",
     "text": [
      "Total sum of values in the dictionary:\n",
      "948\n"
     ]
    }
   ],
   "source": [
    "#To sum all the items in a dictionary\n",
    "dict={'A':6,'B':28,'C':286,'D':628}\n",
    "print(\"Total sum of values in the dictionary:\")\n",
    "print(sum(dict.values()))"
   ]
  },
  {
   "cell_type": "code",
   "execution_count": 7,
   "metadata": {},
   "outputs": [
    {
     "name": "stdout",
     "output_type": "stream",
     "text": [
      "Suchi\n",
      "18\n"
     ]
    }
   ],
   "source": [
    "#To demonstrate  accessing an element from a dictionary\n",
    "dict1={'Name':'Suchi','age':'18'}\n",
    "print(dict1['Name'])\n",
    "print(dict1['age'])"
   ]
  },
  {
   "cell_type": "code",
   "execution_count": 8,
   "metadata": {},
   "outputs": [
    {
     "name": "stdout",
     "output_type": "stream",
     "text": [
      "Concatenated dictionary is:\n",
      "{'A': 6, 'B': 28, 'C': 7}\n"
     ]
    }
   ],
   "source": [
    "#To concate two dictionaries\n",
    "d1={'A':6,'B':28}\n",
    "d2={'C':7}\n",
    "d1.update(d2)\n",
    "print(\"Concatenated dictionary is:\")\n",
    "print(d1)"
   ]
  },
  {
   "cell_type": "code",
   "execution_count": 9,
   "metadata": {},
   "outputs": [
    {
     "name": "stdout",
     "output_type": "stream",
     "text": [
      "Current dict is:  {'key1': 'Suchithra', 'key2': 'is'}\n",
      "{'key1': 'Suchithra', 'key2': 'is', 'key3': 'studying in', 'key4': 'Gitam University'}\n"
     ]
    }
   ],
   "source": [
    "#To add keys/values in a dictionary\n",
    "d1={'key1':'Suchithra','key2':'is'}\n",
    "print(\"Current dict is: \",d1)\n",
    "d2={'key3':'studying in','key4':'Gitam University'}\n",
    "d1.update(d2)\n",
    "print(d1)\n"
   ]
  },
  {
   "cell_type": "code",
   "execution_count": 10,
   "metadata": {},
   "outputs": [
    {
     "name": "stdout",
     "output_type": "stream",
     "text": [
      "2\n"
     ]
    }
   ],
   "source": [
    "#To find the length of a dictionary\n",
    "d={'Name':'Suchithra','Age':'18'}\n",
    "print(len(d))"
   ]
  },
  {
   "cell_type": "code",
   "execution_count": 11,
   "metadata": {},
   "outputs": [
    {
     "name": "stdout",
     "output_type": "stream",
     "text": [
      "The dictionary before removing is: {'Suchi': 28, 'Vini': 29, 'Kallu': 28, 'Ks': 30}\n",
      "The dictionary after removing is: {'Suchi': 28, 'Vini': 29, 'Kallu': 28}\n"
     ]
    }
   ],
   "source": [
    "test_d={\"Suchi\":28,\"Vini\":29,\"Kallu\":28,\"Ks\":30}\n",
    "print(\"The dictionary before removing is: \"+str(test_d))\n",
    "new_d={key:val for key, val in test_d.items() if key != 'Ks'}\n",
    "print(\"The dictionary after removing is: \"+str(new_d))"
   ]
  },
  {
   "cell_type": "code",
   "execution_count": null,
   "metadata": {},
   "outputs": [],
   "source": []
  }
 ],
 "metadata": {
  "kernelspec": {
   "display_name": "Python 3",
   "language": "python",
   "name": "python3"
  },
  "language_info": {
   "codemirror_mode": {
    "name": "ipython",
    "version": 3
   },
   "file_extension": ".py",
   "mimetype": "text/x-python",
   "name": "python",
   "nbconvert_exporter": "python",
   "pygments_lexer": "ipython3",
   "version": "3.8.3"
  }
 },
 "nbformat": 4,
 "nbformat_minor": 4
}
